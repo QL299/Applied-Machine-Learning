{
 "cells": [
  {
   "cell_type": "code",
   "execution_count": 3,
   "metadata": {},
   "outputs": [],
   "source": [
    "import pandas as pd\n",
    "import numpy as np\n",
    "import matplotlib.pyplot as plt\n",
    "import seaborn as sns\n",
    "from sklearn import neighbors\n",
    "from statistics import mode\n",
    "from sklearn import model_selection"
   ]
  },
  {
   "cell_type": "code",
   "execution_count": 4,
   "metadata": {},
   "outputs": [],
   "source": [
    "test_X = pd.read_csv('digit-test.csv')\n",
    "train = pd.read_csv('digit-train.csv')\n",
    "train_Y = train['label']\n",
    "train_X = train.drop('label', axis = 1)"
   ]
  },
  {
   "cell_type": "code",
   "execution_count": 5,
   "metadata": {},
   "outputs": [],
   "source": [
    "def knnclassifier(train_X,train_Y,test_X,n):\n",
    "    test_Y=[]\n",
    "    for i in range(len(test_X)):\n",
    "        nearest=np.argsort(((np.array(test_X.iloc[i])-np.array(train_X))**2).sum(-1))\n",
    "        prediction=Counter(train_Y.iloc[nearest[:n]]).most_common(1)[0][0]\n",
    "        test_Y.append(prediction)\n",
    "    return test_Y"
   ]
  },
  {
   "cell_type": "code",
   "execution_count": 7,
   "metadata": {},
   "outputs": [
    {
     "data": {
      "text/plain": [
       "[0, 0, 1, 1, 1, 7, 0, 1, 0, 1]"
      ]
     },
     "execution_count": 7,
     "metadata": {},
     "output_type": "execute_result"
    }
   ],
   "source": [
    "from collections import Counter\n",
    "knnclassifier(train_X[:10],train_Y[:10],test_X[:10],5)"
   ]
  },
  {
   "cell_type": "code",
   "execution_count": 9,
   "metadata": {},
   "outputs": [],
   "source": [
    "X_train, X_test, y_train, y_test = model_selection.train_test_split(train_X, train_Y, random_state=2,test_size=0.5)"
   ]
  },
  {
   "cell_type": "code",
   "execution_count": null,
   "metadata": {},
   "outputs": [],
   "source": [
    "pred_y=knnclassifier(X_train,y_train,X_test,10)"
   ]
  },
  {
   "cell_type": "code",
   "execution_count": null,
   "metadata": {},
   "outputs": [],
   "source": [
    "cf=sklearn.metrics.confusion_matrix(np.array(y_test).reshape(1,21000)[0],np.array(pred_y)\n",
    "knn_cf=pd.DataFrame(cf,('true %i'%x for x in range(10)),('pred %i'%x for x in range(10)))\n",
    "knn_cf"
   ]
  },
  {
   "cell_type": "code",
   "execution_count": null,
   "metadata": {},
   "outputs": [],
   "source": []
  }
 ],
 "metadata": {
  "kernelspec": {
   "display_name": "Python 3",
   "language": "python",
   "name": "python3"
  },
  "language_info": {
   "codemirror_mode": {
    "name": "ipython",
    "version": 3
   },
   "file_extension": ".py",
   "mimetype": "text/x-python",
   "name": "python",
   "nbconvert_exporter": "python",
   "pygments_lexer": "ipython3",
   "version": "3.7.3"
  }
 },
 "nbformat": 4,
 "nbformat_minor": 2
}
