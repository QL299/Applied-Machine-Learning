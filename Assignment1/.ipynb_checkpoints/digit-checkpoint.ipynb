{
 "cells": [
  {
   "cell_type": "code",
   "execution_count": 1,
   "metadata": {},
   "outputs": [],
   "source": [
    "import pandas as pd\n",
    "import numpy as np\n",
    "import matplotlib.pyplot as plt\n",
    "import matplotlib.mlab as mlab\n",
    "import seaborn as sns\n",
    "from sklearn import neighbors\n",
    "from statistics import mode\n",
    "from sklearn import model_selection"
   ]
  },
  {
   "cell_type": "code",
   "execution_count": 2,
   "metadata": {},
   "outputs": [],
   "source": [
    "dtrain = pd.read_csv('digit-train.csv')\n",
    "dtrain.head()\n",
    "X_dtrain = dtrain.drop('label', axis = 1)"
   ]
  },
  {
   "cell_type": "code",
   "execution_count": 3,
   "metadata": {},
   "outputs": [
    {
     "name": "stdout",
     "output_type": "stream",
     "text": [
      "{0: 4, 1: 2, 2: 22, 3: 9, 4: 32, 5: 19, 6: 26, 7: 18, 8: 20, 9: 27}\n"
     ]
    }
   ],
   "source": [
    "digit = []\n",
    "for i in range(0,10):\n",
    " digit.append(dtrain[dtrain.label == i].index[1])\n",
    "digit_dic = {i:digit[i] for i in range(0,10)}\n",
    "print(digit_dic)"
   ]
  },
  {
   "cell_type": "code",
   "execution_count": 5,
   "metadata": {},
   "outputs": [
    {
     "data": {
      "image/png": "[encoded data removed]",
      "text/plain": [
       "<Figure size 432x288 with 10 Axes>"
      ]
     },
     "metadata": {
      "needs_background": "light"
     },
     "output_type": "display_data"
    }
   ],
   "source": [
    "fig, ax = plt.subplots(2, 5)\n",
    "def get_img_matrix(index):\n",
    " img_matrix = X_dtrain.loc[index].values.reshape((28,28))\n",
    " return img_matrix\n",
    "ax[0, 0].imshow(get_img_matrix(digit_dic[0]))\n",
    "ax[0, 1].imshow(get_img_matrix(digit_dic[1]))\n",
    "ax[0, 2].imshow(get_img_matrix(digit_dic[2]))\n",
    "ax[0, 3].imshow(get_img_matrix(digit_dic[3]))\n",
    "ax[0, 4].imshow(get_img_matrix(digit_dic[4]))\n",
    "ax[1, 0].imshow(get_img_matrix(digit_dic[5]))\n",
    "ax[1, 1].imshow(get_img_matrix(digit_dic[6]))\n",
    "ax[1, 2].imshow(get_img_matrix(digit_dic[7]))\n",
    "ax[1, 3].imshow(get_img_matrix(digit_dic[8]))\n",
    "ax[1, 4].imshow(get_img_matrix(digit_dic[9]))\n",
    "plt.show()"
   ]
  },
  {
   "cell_type": "code",
   "execution_count": null,
   "metadata": {},
   "outputs": [],
   "source": [
    "Y_dtrain = dtrain['label']\n",
    "dtrain_freq = pd.DataFrame(Y_dtrain.value_counts()).reset_index()\n",
    "dtrain_freq.sort_values(by=['label'])\n",
    "dtrain_freq.rename(columns = {'index': 'digit', 'label': 'count'})\n"
   ]
  },
  {
   "cell_type": "code",
   "execution_count": null,
   "metadata": {},
   "outputs": [],
   "source": [
    "sns.distplot(Y_dtrain, bins = 10, color = 'red')\n",
    "plt.title('Digit Count', fontsize = 16)\n",
    "plt.xlabel('digit', fontsize = 14)\n"
   ]
  },
  {
   "cell_type": "code",
   "execution_count": null,
   "metadata": {},
   "outputs": [],
   "source": []
  }
 ],
 "metadata": {
  "kernelspec": {
   "display_name": "Python 3",
   "language": "python",
   "name": "python3"
  },
  "language_info": {
   "codemirror_mode": {
    "name": "ipython",
    "version": 3
   },
   "file_extension": ".py",
   "mimetype": "text/x-python",
   "name": "python",
   "nbconvert_exporter": "python",
   "pygments_lexer": "ipython3",
   "version": "3.7.3"
  }
 },
 "nbformat": 4,
 "nbformat_minor": 2
}
