{
 "cells": [
  {
   "cell_type": "code",
   "execution_count": 11,
   "metadata": {},
   "outputs": [],
   "source": [
    "import pandas as pd\n",
    "import numpy as np\n",
    "import matplotlib.pyplot as plt\n",
    "import seaborn as sns\n",
    "from sklearn import neighbors\n",
    "from statistics import mode\n",
    "from sklearn import model_selection\n",
    "from sklearn.metrics import confusion_matrix"
   ]
  },
  {
   "cell_type": "code",
   "execution_count": 2,
   "metadata": {},
   "outputs": [],
   "source": [
    "dtrain = pd.read_csv('digit-train.csv', header=0, dtype=np.int)\n",
    "X_dtest = pd.read_csv('digit-test.csv', header=0, dtype=np.int)\n",
    "dtrain.head()\n",
    "X_dtrain = dtrain.drop('label', axis = 1)\n",
    "Y_dtrain = dtrain['label']"
   ]
  },
  {
   "cell_type": "code",
   "execution_count": 3,
   "metadata": {},
   "outputs": [],
   "source": [
    "#from collections import Counter\n",
    "#implement a K-NN classifier\n",
    "\n",
    "def generate_k_nn_classifier(X_dtrain,Y_dtrain,X_dtest ,n):\n",
    "    Y_test=[]\n",
    "    for i in range(len(X_dtest)):\n",
    "        neighbors = np.argsort(((np.array(X_dtest.iloc[i])-np.array(X_dtrain))**2).sum(-1))\n",
    "        prediction = Counter(Y_dtrain.iloc[neighbors[:n]]).most_common(1)[0][0]\n",
    "        Y_test.append(prediction)\n",
    "    return Y_test"
   ]
  },
  {
   "cell_type": "markdown",
   "metadata": {},
   "source": [
    "(h) Using the training data for all digits, perform 3 fold cross-validation on your K-NN classifier and report your average accuracy."
   ]
  },
  {
   "cell_type": "code",
   "execution_count": 5,
   "metadata": {},
   "outputs": [],
   "source": [
    "#from sklearn import model_selection\n",
    "#use our K-NN classifier to perform 3 fold cross-validation\n",
    "\n",
    "X_train, X_test, y_train, y_test = model_selection.train_test_split(X_dtrain, Y_dtrain, random_state=2, test_size=0.5)\n",
    "Y_prediction = generate_k_nn_classifier(X_train,y_train,X_test,10)"
   ]
  },
  {
   "cell_type": "markdown",
   "metadata": {},
   "source": [
    "After generating a confusion matrix below, we acheived the average accuracy which is 0.958."
   ]
  },
  {
   "cell_type": "markdown",
   "metadata": {},
   "source": [
    "(i) Generate a confusion matrix (of size 10 £ 10) from your results. Which digits are particularly tricky to classify?"
   ]
  },
  {
   "cell_type": "code",
   "execution_count": 12,
   "metadata": {},
   "outputs": [
    {
     "data": {
      "text/html": [
       "<div>\n",
       "<style scoped>\n",
       "    .dataframe tbody tr th:only-of-type {\n",
       "        vertical-align: middle;\n",
       "    }\n",
       "\n",
       "    .dataframe tbody tr th {\n",
       "        vertical-align: top;\n",
       "    }\n",
       "\n",
       "    .dataframe thead th {\n",
       "        text-align: right;\n",
       "    }\n",
       "</style>\n",
       "<table border=\"1\" class=\"dataframe\">\n",
       "  <thead>\n",
       "    <tr style=\"text-align: right;\">\n",
       "      <th></th>\n",
       "      <th>pred 0</th>\n",
       "      <th>pred 1</th>\n",
       "      <th>pred 2</th>\n",
       "      <th>pred 3</th>\n",
       "      <th>pred 4</th>\n",
       "      <th>pred 5</th>\n",
       "      <th>pred 6</th>\n",
       "      <th>pred 7</th>\n",
       "      <th>pred 8</th>\n",
       "      <th>pred 9</th>\n",
       "    </tr>\n",
       "  </thead>\n",
       "  <tbody>\n",
       "    <tr>\n",
       "      <td>true 0</td>\n",
       "      <td>2045</td>\n",
       "      <td>3</td>\n",
       "      <td>1</td>\n",
       "      <td>0</td>\n",
       "      <td>0</td>\n",
       "      <td>2</td>\n",
       "      <td>7</td>\n",
       "      <td>1</td>\n",
       "      <td>1</td>\n",
       "      <td>1</td>\n",
       "    </tr>\n",
       "    <tr>\n",
       "      <td>true 1</td>\n",
       "      <td>0</td>\n",
       "      <td>2344</td>\n",
       "      <td>5</td>\n",
       "      <td>1</td>\n",
       "      <td>2</td>\n",
       "      <td>0</td>\n",
       "      <td>4</td>\n",
       "      <td>3</td>\n",
       "      <td>1</td>\n",
       "      <td>1</td>\n",
       "    </tr>\n",
       "    <tr>\n",
       "      <td>true 2</td>\n",
       "      <td>24</td>\n",
       "      <td>36</td>\n",
       "      <td>1934</td>\n",
       "      <td>5</td>\n",
       "      <td>1</td>\n",
       "      <td>3</td>\n",
       "      <td>6</td>\n",
       "      <td>51</td>\n",
       "      <td>5</td>\n",
       "      <td>5</td>\n",
       "    </tr>\n",
       "    <tr>\n",
       "      <td>true 3</td>\n",
       "      <td>4</td>\n",
       "      <td>15</td>\n",
       "      <td>13</td>\n",
       "      <td>2071</td>\n",
       "      <td>0</td>\n",
       "      <td>19</td>\n",
       "      <td>4</td>\n",
       "      <td>19</td>\n",
       "      <td>15</td>\n",
       "      <td>15</td>\n",
       "    </tr>\n",
       "    <tr>\n",
       "      <td>true 4</td>\n",
       "      <td>2</td>\n",
       "      <td>27</td>\n",
       "      <td>0</td>\n",
       "      <td>0</td>\n",
       "      <td>1986</td>\n",
       "      <td>0</td>\n",
       "      <td>10</td>\n",
       "      <td>3</td>\n",
       "      <td>0</td>\n",
       "      <td>72</td>\n",
       "    </tr>\n",
       "    <tr>\n",
       "      <td>true 5</td>\n",
       "      <td>5</td>\n",
       "      <td>10</td>\n",
       "      <td>1</td>\n",
       "      <td>41</td>\n",
       "      <td>1</td>\n",
       "      <td>1775</td>\n",
       "      <td>26</td>\n",
       "      <td>0</td>\n",
       "      <td>4</td>\n",
       "      <td>18</td>\n",
       "    </tr>\n",
       "    <tr>\n",
       "      <td>true 6</td>\n",
       "      <td>13</td>\n",
       "      <td>6</td>\n",
       "      <td>0</td>\n",
       "      <td>0</td>\n",
       "      <td>2</td>\n",
       "      <td>9</td>\n",
       "      <td>2010</td>\n",
       "      <td>0</td>\n",
       "      <td>3</td>\n",
       "      <td>0</td>\n",
       "    </tr>\n",
       "    <tr>\n",
       "      <td>true 7</td>\n",
       "      <td>1</td>\n",
       "      <td>35</td>\n",
       "      <td>8</td>\n",
       "      <td>0</td>\n",
       "      <td>5</td>\n",
       "      <td>0</td>\n",
       "      <td>0</td>\n",
       "      <td>2155</td>\n",
       "      <td>0</td>\n",
       "      <td>28</td>\n",
       "    </tr>\n",
       "    <tr>\n",
       "      <td>true 8</td>\n",
       "      <td>5</td>\n",
       "      <td>38</td>\n",
       "      <td>7</td>\n",
       "      <td>38</td>\n",
       "      <td>9</td>\n",
       "      <td>37</td>\n",
       "      <td>6</td>\n",
       "      <td>8</td>\n",
       "      <td>1821</td>\n",
       "      <td>37</td>\n",
       "    </tr>\n",
       "    <tr>\n",
       "      <td>true 9</td>\n",
       "      <td>11</td>\n",
       "      <td>8</td>\n",
       "      <td>4</td>\n",
       "      <td>17</td>\n",
       "      <td>15</td>\n",
       "      <td>2</td>\n",
       "      <td>1</td>\n",
       "      <td>34</td>\n",
       "      <td>2</td>\n",
       "      <td>1977</td>\n",
       "    </tr>\n",
       "  </tbody>\n",
       "</table>\n",
       "</div>"
      ],
      "text/plain": [
       "        pred 0  pred 1  pred 2  pred 3  pred 4  pred 5  pred 6  pred 7  \\\n",
       "true 0    2045       3       1       0       0       2       7       1   \n",
       "true 1       0    2344       5       1       2       0       4       3   \n",
       "true 2      24      36    1934       5       1       3       6      51   \n",
       "true 3       4      15      13    2071       0      19       4      19   \n",
       "true 4       2      27       0       0    1986       0      10       3   \n",
       "true 5       5      10       1      41       1    1775      26       0   \n",
       "true 6      13       6       0       0       2       9    2010       0   \n",
       "true 7       1      35       8       0       5       0       0    2155   \n",
       "true 8       5      38       7      38       9      37       6       8   \n",
       "true 9      11       8       4      17      15       2       1      34   \n",
       "\n",
       "        pred 8  pred 9  \n",
       "true 0       1       1  \n",
       "true 1       1       1  \n",
       "true 2       5       5  \n",
       "true 3      15      15  \n",
       "true 4       0      72  \n",
       "true 5       4      18  \n",
       "true 6       3       0  \n",
       "true 7       0      28  \n",
       "true 8    1821      37  \n",
       "true 9       2    1977  "
      ]
     },
     "execution_count": 12,
     "metadata": {},
     "output_type": "execute_result"
    }
   ],
   "source": [
    "#import pandas as pd\n",
    "#from sklearn.metrics import confusion_matrix\n",
    "\n",
    "c_matrix = confusion_matrix(np.array(y_test).reshape(1,21000)[0],np.array(Y_prediction))\n",
    "k_nn_c_matrix = pd.DataFrame(c_matrix,(x for x in range(10)),(x for x in range(10)))\n",
    "k_nn_c_matrix"
   ]
  },
  {
   "cell_type": "markdown",
   "metadata": {},
   "source": [
    "According to the matrix above, we observe that 8 is the trickies to classify."
   ]
  },
  {
   "cell_type": "code",
   "execution_count": 13,
   "metadata": {},
   "outputs": [
    {
     "data": {
      "text/plain": [
       "0.958"
      ]
     },
     "execution_count": 13,
     "metadata": {},
     "output_type": "execute_result"
    }
   ],
   "source": [
    "#calculate average accuracy\n",
    "\n",
    "accu = sum(k_nn_c_matrix.apply(lambda x: max (x),axis = 1))/sum(k_nn_c_matrix.apply(lambda x: sum(x), axis =1))\n",
    "print(accu)"
   ]
  },
  {
   "cell_type": "markdown",
   "metadata": {},
   "source": [
    "(j) Train your classifier with all of the training data, and test your classifier with the test data.\n",
    "Submit your results to Kaggle."
   ]
  },
  {
   "cell_type": "code",
   "execution_count": null,
   "metadata": {},
   "outputs": [],
   "source": [
    "#load new dataset for test\n",
    "\n",
    "X_dtest = pd.read_csv('digit-test.csv', header=0, dtype=np.int)\n",
    "x_dtest = X_dtest.drop('label', axis = 1)\n",
    "Y_dtest = X_dtest['label']"
   ]
  },
  {
   "cell_type": "code",
   "execution_count": null,
   "metadata": {},
   "outputs": [],
   "source": [
    "#test our K-NN classifier with the test data\n",
    "#from sklearn import model_selection\n",
    "\n",
    "X_train, X_test, y_train, y_test = model_selection.train_test_split(x_dtest, Y_dtest, random_state=2, test_size=0.5)\n",
    "Y_prediction = generate_k_nn_classifier(X_train,y_train,X_test,10)"
   ]
  }
 ],
 "metadata": {
  "kernelspec": {
   "display_name": "Python 3",
   "language": "python",
   "name": "python3"
  },
  "language_info": {
   "codemirror_mode": {
    "name": "ipython",
    "version": 3
   },
   "file_extension": ".py",
   "mimetype": "text/x-python",
   "name": "python",
   "nbconvert_exporter": "python",
   "pygments_lexer": "ipython3",
   "version": "3.7.3"
  }
 },
 "nbformat": 4,
 "nbformat_minor": 2
}
