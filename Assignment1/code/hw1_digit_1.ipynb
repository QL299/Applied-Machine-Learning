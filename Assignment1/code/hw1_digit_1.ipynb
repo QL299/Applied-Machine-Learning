{
 "cells": [
  {
   "cell_type": "code",
   "execution_count": null,
   "metadata": {},
   "outputs": [],
   "source": [
    "#packages\n",
    "import pandas as pd\n",
    "import numpy as np\n",
    "import matplotlib.pyplot as plt\n",
    "import matplotlib.mlab as mlab\n",
    "import seaborn as sns\n",
    "from sklearn import neighbors\n",
    "from statistics import mode\n",
    "from sklearn import model_selection\n",
    "from sklearn.metrics.pairwise import euclidean_distances\n",
    "from sklearn import metrics\n",
    "from sklearn.metrics import confusion_matrix\n",
    "import matplotlib.cm as cm\n",
    "import collections\n",
    "from collections import Counter"
   ]
  },
  {
   "cell_type": "markdown",
   "metadata": {},
   "source": [
    "(a) Join the Digit Recognizer competition on Kaggle. Download the training and test data. The competition page describes how these files are formatted."
   ]
  },
  {
   "cell_type": "code",
   "execution_count": null,
   "metadata": {},
   "outputs": [],
   "source": [
    "#load dataset\n",
    "dtrain = pd.read_csv('digit-train.csv', header = 0, dtype = np.int)\n",
    "X_dtest = pd.read_csv('digit-test.csv', header = 0, dtype = np.int)\n",
    "#dtrain.head()\n",
    "X_dtrain = dtrain.drop('label', axis = 1)\n",
    "Y_dtrain = dtrain['label']\n",
    "\n",
    "#get the height and width\n",
    "height = width =  int((dtrain.shape[1] - 1) ** 0.5)\n",
    "print(height, width)"
   ]
  },
  {
   "cell_type": "markdown",
   "metadata": {},
   "source": [
    "(b) Write a function to display an MNIST digit. Display one of each digit."
   ]
  },
  {
   "cell_type": "code",
   "execution_count": null,
   "metadata": {},
   "outputs": [],
   "source": [
    "#display the index[2].\n",
    "dis_mnist_digit = []\n",
    "for i in range(0,10):\n",
    "    dis_mnist_digit.append(dtrain[dtrain.label == i].index[2])\n",
    "dis_mnist_digit = {i:dis_mnist_digit[i] for i in range(0,10)}\n",
    "print(dis_mnist_digit)"
   ]
  },
  {
   "cell_type": "code",
   "execution_count": 4,
   "metadata": {},
   "outputs": [
    {
     "data": {
      "image/png": "[encoded data removed]",
      "text/plain": [
       "<Figure size 432x288 with 10 Axes>"
      ]
     },
     "metadata": {
      "needs_background": "light"
     },
     "output_type": "display_data"
    }
   ],
   "source": [
    "#make a subplot.\n",
    "fig, ax = plt.subplots(nrows = 5, ncols = 2)        #fit the 10 images into 5*2 subplots to make it easier to observe.\n",
    "\n",
    "def generate_image(index):\n",
    "    image_matrix = X_dtrain.loc[index].values.reshape((height,width))      #load the height&width in previous part.\n",
    "    return image_matrix\n",
    "\n",
    "#plot one of each digit.\n",
    "ax[0, 0].imshow(generate_image(dis_mnist_digitt[0]))\n",
    "ax[0, 1].imshow(generate_image(dis_mnist_digit[1]))\n",
    "ax[1, 0].imshow(generate_image(dis_mnist_digit[2]))\n",
    "ax[1, 1].imshow(generate_image(dis_mnist_digit[3]))\n",
    "ax[2, 0].imshow(generate_image(dis_mnist_digit[4]))\n",
    "ax[2, 1].imshow(generate_image(dis_mnist_digit[5]))\n",
    "ax[3, 0].imshow(generate_image(dis_mnist_digit[6]))\n",
    "ax[3, 1].imshow(generate_image(dis_mnist_digit[7]))\n",
    "ax[4, 0].imshow(generate_image(dis_mnist_digit[8]))\n",
    "ax[4, 1].imshow(generate_image(dis_mnist_digit[9]))\n",
    "\n",
    "plt.show()"
   ]
  },
  {
   "cell_type": "markdown",
   "metadata": {},
   "source": [
    "(c) Examine the prior probability of the classes in the training data. Is it uniform across the digits? Display a normalized histogram of digit counts. Is it even?"
   ]
  },
  {
   "cell_type": "code",
   "execution_count": 5,
   "metadata": {},
   "outputs": [
    {
     "data": {
      "text/html": [
       "<div>\n",
       "<style scoped>\n",
       "    .dataframe tbody tr th:only-of-type {\n",
       "        vertical-align: middle;\n",
       "    }\n",
       "\n",
       "    .dataframe tbody tr th {\n",
       "        vertical-align: top;\n",
       "    }\n",
       "\n",
       "    .dataframe thead th {\n",
       "        text-align: right;\n",
       "    }\n",
       "</style>\n",
       "<table border=\"1\" class=\"dataframe\">\n",
       "  <thead>\n",
       "    <tr style=\"text-align: right;\">\n",
       "      <th></th>\n",
       "      <th>digit</th>\n",
       "      <th>count</th>\n",
       "    </tr>\n",
       "  </thead>\n",
       "  <tbody>\n",
       "    <tr>\n",
       "      <th>0</th>\n",
       "      <td>1</td>\n",
       "      <td>4684</td>\n",
       "    </tr>\n",
       "    <tr>\n",
       "      <th>1</th>\n",
       "      <td>7</td>\n",
       "      <td>4401</td>\n",
       "    </tr>\n",
       "    <tr>\n",
       "      <th>2</th>\n",
       "      <td>3</td>\n",
       "      <td>4351</td>\n",
       "    </tr>\n",
       "    <tr>\n",
       "      <th>3</th>\n",
       "      <td>9</td>\n",
       "      <td>4188</td>\n",
       "    </tr>\n",
       "    <tr>\n",
       "      <th>4</th>\n",
       "      <td>2</td>\n",
       "      <td>4177</td>\n",
       "    </tr>\n",
       "    <tr>\n",
       "      <th>5</th>\n",
       "      <td>6</td>\n",
       "      <td>4137</td>\n",
       "    </tr>\n",
       "    <tr>\n",
       "      <th>6</th>\n",
       "      <td>0</td>\n",
       "      <td>4132</td>\n",
       "    </tr>\n",
       "    <tr>\n",
       "      <th>7</th>\n",
       "      <td>4</td>\n",
       "      <td>4072</td>\n",
       "    </tr>\n",
       "    <tr>\n",
       "      <th>8</th>\n",
       "      <td>8</td>\n",
       "      <td>4063</td>\n",
       "    </tr>\n",
       "    <tr>\n",
       "      <th>9</th>\n",
       "      <td>5</td>\n",
       "      <td>3795</td>\n",
       "    </tr>\n",
       "  </tbody>\n",
       "</table>\n",
       "</div>"
      ],
      "text/plain": [
       "   digit  count\n",
       "0      1   4684\n",
       "1      7   4401\n",
       "2      3   4351\n",
       "3      9   4188\n",
       "4      2   4177\n",
       "5      6   4137\n",
       "6      0   4132\n",
       "7      4   4072\n",
       "8      8   4063\n",
       "9      5   3795"
      ]
     },
     "execution_count": 5,
     "metadata": {},
     "output_type": "execute_result"
    }
   ],
   "source": [
    "#examine the prior probability.\n",
    "dtrain_freq = pd.DataFrame(Y_dtrain.value_counts()).reset_index()                                         #count the classes.\n",
    "dtrain_freq.sort_values(by = ['label'])                                                                                  #sort the digits by no. of counts\n",
    "\n",
    "#Index: [\"Digit\"] \n",
    "#Label: [\"Count\"]\n"
   ]
  },
  {
   "cell_type": "code",
   "execution_count": 6,
   "metadata": {},
   "outputs": [
    {
     "data": {
      "text/plain": [
       "Text(0.5, 0, 'digit')"
      ]
     },
     "execution_count": 6,
     "metadata": {},
     "output_type": "execute_result"
    },
    {
     "data": {
      "image/png": "[encoded data removed]",
      "text/plain": [
       "<Figure size 432x288 with 1 Axes>"
      ]
     },
     "metadata": {
      "needs_background": "light"
     },
     "output_type": "display_data"
    }
   ],
   "source": [
    "#display a normalized histogram of digit counts.\n",
    "sns.distplot(Y_dtrain, bins = 10, color = 'red')\n",
    "plt.title('Digit Count', fontsize = 16)\n",
    "plt.xlabel('digit', fontsize = 14)"
   ]
  },
  {
   "cell_type": "markdown",
   "metadata": {},
   "source": [
    "It seems like a uniform distribution across the dights and almost even."
   ]
  },
  {
   "cell_type": "markdown",
   "metadata": {},
   "source": [
    "(d) Pick one example of each digit from your training data. Then, for each sample digit, compute and show the best match (nearest neighbor) between your chosen sample and the rest of the training data. Use L2 distance between the two images’ pixel values as the metric. This probably won’t be perfect, so add an asterisk next to the erroneous examples (if any)."
   ]
  },
  {
   "cell_type": "code",
   "execution_count": 7,
   "metadata": {},
   "outputs": [
    {
     "data": {
      "text/plain": [
       "[25196, 29923, 4704, 9240, 7204, 10674, 34338, 10446, 14340, 8935]"
      ]
     },
     "execution_count": 7,
     "metadata": {},
     "output_type": "execute_result"
    }
   ],
   "source": [
    "#from above, we picked the [2] digit\n",
    "def generate_nearest_neighbor(index):                                                                                         #compute the nearest neighbor of our example\n",
    "    neighbors = np.argsort(((np.array(X_dtrain) - np.array(X_dtrain.iloc[index]))**2).sum(-1))\n",
    "    nearest_neighbor = neighbors[1]\n",
    "    if Y_dtrain[index] == Y_dtrain[best_match]:\n",
    "        right = True\n",
    "    return nearest_neighbor\n",
    "\n",
    "nearest_neighbor = []                                                                                                                #show the best match for each of the [2] digit\n",
    "for i in range(0,10):\n",
    "    nearest_neighbor.append(generate_nearest_neighbor(dis_mnist_digit[i]))\n",
    "nearest_neighbor                                                                                                                      #display the [n] of the best match"
   ]
  },
  {
   "cell_type": "code",
   "execution_count": 8,
   "metadata": {},
   "outputs": [
    {
     "data": {
      "image/png": "[encoded data removed]",
      "text/plain": [
       "<Figure size 432x288 with 20 Axes>"
      ]
     },
     "metadata": {
      "needs_background": "light"
     },
     "output_type": "display_data"
    }
   ],
   "source": [
    "#import pandas as pd\n",
    "#import matplotlib.pyplot as plt\n",
    "#plot the orginal digits and their best match into a 5*4 subplots\n",
    "\n",
    "fig, ax = plt.subplots(5,4)\n",
    "\n",
    "def ex_img(index):                                                                                                           #plot each pair of digits side by side\n",
    "    image_matrix = X_dtrain.loc[index].values.reshape((height,width))                           \n",
    "    return image_matrix\n",
    "\n",
    "ax[0, 0].imshow(ex_img(dis_mnist_digit[0]))\n",
    "ax[0, 1].imshow(ex_img(25196))\n",
    "ax[0, 2].imshow(ex_img(dis_mnist_digit[1]))\n",
    "ax[0, 3].imshow(ex_img(29923))\n",
    "ax[1, 0].imshow(ex_img(dis_mnist_digit[2]))\n",
    "ax[1, 1].imshow(ex_img(4704))\n",
    "ax[1, 2].imshow(ex_img(dis_mnist_digit[3]))\n",
    "ax[1, 3].imshow(ex_img(9240))\n",
    "ax[2, 0].imshow(ex_img(dis_mnist_digit[4]))\n",
    "ax[2, 1].imshow(ex_img(7204))\n",
    "ax[2, 2].imshow(ex_img(dis_mnist_digit[5]))\n",
    "ax[2, 3].imshow(ex_img(10674))\n",
    "ax[3, 0].imshow(ex_img(dis_mnist_digit[6]))\n",
    "ax[3, 1].imshow(ex_img(34338))\n",
    "ax[3, 2].imshow(ex_img(dis_mnist_digit[7]))\n",
    "ax[3, 3].imshow(ex_img(10446))\n",
    "ax[4, 0].imshow(ex_img(dis_mnist_digit[8]))\n",
    "ax[4, 1].imshow(ex_img(14340))\n",
    "ax[4, 2].imshow(ex_img(dis_mnist_digit[9]))\n",
    "ax[4, 3].imshow(ex_img(8935))\n",
    "\n",
    "plt.show()"
   ]
  },
  {
   "cell_type": "markdown",
   "metadata": {},
   "source": [
    "(e) Consider the case of binary comparison between the digits 0 and 1. Ignoring all the other digits, compute the pairwise distances for all genuine matches and all impostor matches, again using the L2 norm. Plot histograms of the genuine and impostor distances on the same set of axes."
   ]
  },
  {
   "cell_type": "code",
   "execution_count": 9,
   "metadata": {},
   "outputs": [
    {
     "data": {
      "image/png": "[encoded data removed]",
      "text/plain": [
       "<Figure size 432x288 with 1 Axes>"
      ]
     },
     "metadata": {
      "needs_background": "light"
     },
     "output_type": "display_data"
    }
   ],
   "source": [
    "#import numpy as np\n",
    "#import matplotlib.pyplot as plt\n",
    "#from sklearn.metrics.pairwise import euclidean_distances\n",
    "\n",
    "binary_y = Y_dtrain[Y_dtrain.isin([0,1])].sort_values()\n",
    "binary_x = X_dtrain.loc[list(binary_y.index)]\n",
    "\n",
    "X = np.array(binary_x)\n",
    "Y = np.array(binary_y).reshape((4684+4132),1)                                                    #from above questions we can observe that [0]4132, [1]4684.\n",
    "y_score = euclidean_distances(X,X)                                                                   #find the pairwise distances for all genuine and imposter matches.\n",
    "y = euclidean_distances(Y,Y)\n",
    "\n",
    "#compute genuine and imposter by stack arrays in sequence horizontally.\n",
    "genuine = np.hstack([y_score[:4132,:4132].reshape(1,4132*4132), y_score[4132:,4132:].reshape(1,4684*4684)])\n",
    "imposter = np.hstack([y_score[:4132,4132:].reshape(1,4132*4684),y_score[4132:,:4132].reshape(1,4132*4684)])\n",
    "\n",
    "#plot histograms of the genuine and impostor distances on the same set of axes.\n",
    "plt.hist(genuine[0], alpha = 1, bins = 100, color = 'lightgreen', label = 'Genuine',)\n",
    "plt.hist(imposter[0], alpha = 1, bins = 100, color = 'skyblue', label = 'Imposter')\n",
    "plt.title('Genuine vs. Imposter')\n",
    "plt.legend()\n",
    "plt.show()"
   ]
  },
  {
   "cell_type": "markdown",
   "metadata": {},
   "source": [
    "(f) Generate an ROC curve from the above sets of distances. What is the equal error rate? What is the error rate of a classifier that simply guesses randomly?"
   ]
  },
  {
   "cell_type": "code",
   "execution_count": 12,
   "metadata": {},
   "outputs": [
    {
     "data": {
      "image/png": "[encoded data removed]",
      "text/plain": [
       "<Figure size 432x288 with 1 Axes>"
      ]
     },
     "metadata": {
      "needs_background": "light"
     },
     "output_type": "display_data"
    }
   ],
   "source": [
    "#from sklearn.metrics.pairwise import euclidean_distances\n",
    "#from sklearn import metrics\n",
    "\n",
    "#Generate an ROC curve.\n",
    "y_score = - (euclidean_distances(X,X)).reshape(1, (4684+4132)*(4684+4132))            #from above questions we can observe that [0]4132, [1]4684.\n",
    "y = (euclidean_distances(Y,Y)).reshape(1,  (4684+4132)*(4684+4132))                \n",
    "fp,tp, thresholds = metrics.roc_curve(y[0],y_score[0])                                           \n",
    "plt.plot(tp, fp)                                                                                                    #plot the ROC curve\n",
    "plt.plot([0,1],[0,1])\n",
    "plt.plot(color = 'colors')\n",
    "plt.xlabel('false positive rate')\n",
    "plt.ylabel('true positive rate')\n",
    "plt.show()"
   ]
  },
  {
   "cell_type": "code",
   "execution_count": 27,
   "metadata": {},
   "outputs": [
    {
     "name": "stdout",
     "output_type": "stream",
     "text": [
      "0.1855478851724539\n"
     ]
    }
   ],
   "source": [
    "#Compute the equal error rate.\n",
    "def generate_equal_error_rate(tpr,fpr,thresholds):                                                  #False Positive Rate (FPR)\n",
    "    n = np.argmin(np.abs((1-tpr)-fpr))                                                                    #True Positive Rate (TPR)\n",
    "    eer = 1-np.mean(((1-tpr)[n],fpr[n]))\n",
    "    return eer\n",
    "eer = generate_equal_error_rate(tp,fp,thresholds)\n",
    "print(eer)"
   ]
  },
  {
   "cell_type": "markdown",
   "metadata": {},
   "source": [
    "According to the above, the EER is about 0.186.\n",
    "Guess randomly, the EER of a classifier may be 0.5."
   ]
  },
  {
   "cell_type": "markdown",
   "metadata": {},
   "source": [
    "(g) Implement a K-NN classifier."
   ]
  },
  {
   "cell_type": "code",
   "execution_count": 27,
   "metadata": {},
   "outputs": [],
   "source": [
    "#from collections import Counter\n",
    "#implement a K-NN classifier\n",
    "\n",
    "def generate_k_nn_classifier(X_dtrain,Y_dtrain,X_dtest ,n):\n",
    "    Y_test=[]\n",
    "    for i in range(len(X_dtest)):\n",
    "        neighbors = np.argsort(((np.array(X_dtest.iloc[i])-np.array(X_dtrain))**2).sum(-1))\n",
    "        prediction = Counter(Y_dtrain.iloc[neighbors[:n]]).most_common(1)[0][0]\n",
    "        Y_test.append(prediction)\n",
    "    return Y_test"
   ]
  }
 ],
 "metadata": {
  "kernelspec": {
   "display_name": "Python 3",
   "language": "python",
   "name": "python3"
  },
  "language_info": {
   "codemirror_mode": {
    "name": "ipython",
    "version": 3
   },
   "file_extension": ".py",
   "mimetype": "text/x-python",
   "name": "python",
   "nbconvert_exporter": "python",
   "pygments_lexer": "ipython3",
   "version": "3.7.3"
  }
 },
 "nbformat": 4,
 "nbformat_minor": 2
}
